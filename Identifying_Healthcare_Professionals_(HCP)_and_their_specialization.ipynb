{
  "cells": [
    {
      "cell_type": "code",
      "execution_count": 2,
      "metadata": {
        "id": "o8OUCk1kLwM9"
      },
      "outputs": [],
      "source": [
        "import pandas as pd\n",
        "\n",
        "# Read the CSV file into a dataframe with the specified encoding\n",
        "dataframe = pd.read_csv('/content/drive/MyDrive/Doceree-HCP_Train.csv', encoding='latin1')\n"
      ]
    },
    {
      "cell_type": "code",
      "source": [
        "from google.colab import drive\n",
        "drive.mount('/content/drive')"
      ],
      "metadata": {
        "colab": {
          "base_uri": "https://localhost:8080/"
        },
        "id": "77PXX325m2nC",
        "outputId": "1e07887a-5e8d-469f-8c56-1282cc101ea9"
      },
      "execution_count": 1,
      "outputs": [
        {
          "output_type": "stream",
          "name": "stdout",
          "text": [
            "Mounted at /content/drive\n"
          ]
        }
      ]
    },
    {
      "cell_type": "code",
      "execution_count": 3,
      "metadata": {
        "id": "eZxPgVEhLxAJ",
        "colab": {
          "base_uri": "https://localhost:8080/"
        },
        "outputId": "1d3b53a7-fd94-4250-ad94-ec0dcb943755"
      },
      "outputs": [
        {
          "output_type": "stream",
          "name": "stdout",
          "text": [
            "Index(['ID', 'DEVICETYPE', 'PLATFORM_ID', 'BIDREQUESTIP', 'USERPLATFORMUID',\n",
            "       'USERCITY', 'USERZIPCODE', 'USERAGENT', 'PLATFORMTYPE', 'CHANNELTYPE',\n",
            "       'URL', 'KEYWORDS', 'TAXONOMY', 'IS_HCP'],\n",
            "      dtype='object')\n"
          ]
        }
      ],
      "source": [
        "# Get the names of the columns\n",
        "column_names = dataframe.columns\n",
        "\n",
        "# Print the column names\n",
        "print(column_names)"
      ]
    },
    {
      "cell_type": "code",
      "execution_count": 4,
      "metadata": {
        "id": "LrN07DIkMa0r"
      },
      "outputs": [],
      "source": [
        "import numpy as np # linear algebra\n",
        "import pandas as pd # data processing, CSV file I/O (e.g. pd.read_csv)\n",
        "\n",
        "# Input data files are available in the read-only \"../input/\" directory\n",
        "# For example, running this (by clicking run or pressing Shift+Enter) will list all files under the input directory\n",
        "\n",
        "import os"
      ]
    },
    {
      "cell_type": "code",
      "execution_count": 5,
      "metadata": {
        "colab": {
          "base_uri": "https://localhost:8080/"
        },
        "id": "biABrM9e6hXi",
        "outputId": "6882750a-80ea-4529-e13d-8c7c0597101d"
      },
      "outputs": [
        {
          "output_type": "stream",
          "name": "stdout",
          "text": [
            "Number of rows: 113937\n"
          ]
        }
      ],
      "source": [
        "num_rows = dataframe.shape[0]\n",
        "print(\"Number of rows:\", num_rows)"
      ]
    },
    {
      "cell_type": "markdown",
      "source": [
        "\n",
        "Identifying Columns Related to 'TAXONOMY' Using Cramer's V"
      ],
      "metadata": {
        "id": "fZFmkC-nDoJc"
      }
    },
    {
      "cell_type": "code",
      "execution_count": 6,
      "metadata": {
        "colab": {
          "base_uri": "https://localhost:8080/"
        },
        "id": "glrW6zJVL42Q",
        "outputId": "50059ac1-ec1d-4ce3-d290-693a200edb7e"
      },
      "outputs": [
        {
          "output_type": "stream",
          "name": "stdout",
          "text": [
            "Columns related to 'TAXONOMY': ['BIDREQUESTIP', 'USERPLATFORMUID', 'USERZIPCODE', 'URL']\n"
          ]
        }
      ],
      "source": [
        "import scipy.stats as ss\n",
        "\n",
        "def cramers_v(x, y):\n",
        "    confusion_matrix = pd.crosstab(x, y)\n",
        "    chi2 = ss.chi2_contingency(confusion_matrix)[0]\n",
        "    n = confusion_matrix.sum().sum()\n",
        "    phi2 = chi2 / n\n",
        "    r, k = confusion_matrix.shape\n",
        "    phi2corr = max(0, phi2 - ((k - 1) * (r - 1)) / (n - 1))\n",
        "    rcorr = r - ((r - 1) ** 2) / (n - 1)\n",
        "    kcorr = k - ((k - 1) ** 2) / (n - 1)\n",
        "    if min((kcorr - 1), (rcorr - 1)) == 0:\n",
        "        return 0.0\n",
        "    else:\n",
        "        return np.sqrt(phi2corr / min((kcorr - 1), (rcorr - 1)))\n",
        "\n",
        "X = dataframe.drop('TAXONOMY', axis=1)\n",
        "y = dataframe['TAXONOMY']\n",
        "\n",
        "related_columns = []\n",
        "for column in X.columns:\n",
        "    if column != 'TAXONOMY':\n",
        "        try:\n",
        "            correlation = cramers_v(X[column], y)\n",
        "            if correlation > 0.5:  # Set a correlation threshold\n",
        "                related_columns.append(column)\n",
        "        except ValueError:\n",
        "            pass\n",
        "\n",
        "print(\"Columns related to 'TAXONOMY':\", related_columns)\n"
      ]
    },
    {
      "cell_type": "code",
      "source": [
        "X = dataframe.drop('IS_HCP', axis=1)\n",
        "y = dataframe['IS_HCP']\n",
        "\n",
        "related_columns = []\n",
        "for column in X.columns:\n",
        "    if column != 'IS_HCP':\n",
        "        try:\n",
        "            correlation = cramers_v(X[column], y)\n",
        "            if correlation > 0.5:  # Set a correlation threshold\n",
        "                related_columns.append(column)\n",
        "        except ValueError:\n",
        "            pass\n",
        "\n",
        "print(\"Columns related to 'IS_HCP':\", related_columns)\n"
      ],
      "metadata": {
        "colab": {
          "base_uri": "https://localhost:8080/"
        },
        "id": "qNPD1_Lf94Sr",
        "outputId": "8b70dfa1-778b-4ca9-a5c0-32448f8c8eba"
      },
      "execution_count": 7,
      "outputs": [
        {
          "output_type": "stream",
          "name": "stdout",
          "text": [
            "Columns related to 'IS_HCP': ['BIDREQUESTIP', 'USERPLATFORMUID', 'USERZIPCODE', 'USERAGENT', 'URL', 'KEYWORDS']\n"
          ]
        }
      ]
    },
    {
      "cell_type": "code",
      "execution_count": 8,
      "metadata": {
        "colab": {
          "base_uri": "https://localhost:8080/"
        },
        "id": "9bhIiZYi7lRf",
        "outputId": "a4af06a9-f808-4b5d-ca4b-7e9773d9350f"
      },
      "outputs": [
        {
          "output_type": "stream",
          "name": "stdout",
          "text": [
            "Column: BIDREQUESTIP\n",
            "71.105.120.171     1718\n",
            "142.154.205.202    1143\n",
            "68.132.98.211       866\n",
            "108.175.114.100     727\n",
            "108.175.114.101     707\n",
            "                   ... \n",
            "66.66.9.45            1\n",
            "97.80.251.36          1\n",
            "136.32.32.117         1\n",
            "64.127.133.6          1\n",
            "108.41.233.175        1\n",
            "Name: BIDREQUESTIP, Length: 33664, dtype: int64\n",
            "Total unique values: 33664\n",
            "Column: USERPLATFORMUID\n",
            "3e2578c8-f794-41af-a38c-c5cfb3c0f014    1447\n",
            "d76f7c0b-1a64-4d4b-b36d-86c832be8837    1406\n",
            "d00f28d6-3a50-46cd-92f3-8601bd57ad0e     675\n",
            "fcd3d327-0ad5-425e-8ea8-33ffe6a31543     629\n",
            "fe53f32c-4646-4abe-afea-90b21d6b8531     617\n",
            "                                        ... \n",
            "6759cbf8-cf4f-4d0e-9eb8-00808e69e841       1\n",
            "bd2007ca-d0b5-4620-8078-b7c6db62037c       1\n",
            "0534212a-e0e9-49e7-ace9-608e0d0eae8a       1\n",
            "26a06716-2716-4ac2-9131-fa0f01f84526       1\n",
            "d26887c5-15f9-4b72-80dc-728039529e60       1\n",
            "Name: USERPLATFORMUID, Length: 53780, dtype: int64\n",
            "Total unique values: 53780\n",
            "Column: USERZIPCODE\n",
            "63169.0        2116\n",
            "11226.0        1752\n",
            "22202.0        1259\n",
            "10001.0        1190\n",
            "90060.0        1058\n",
            "               ... \n",
            "56748.0           1\n",
            "77021.0           1\n",
            "74880.0           1\n",
            "93630.0           1\n",
            "760865488.0       1\n",
            "Name: USERZIPCODE, Length: 11278, dtype: int64\n",
            "Total unique values: 11278\n",
            "Column: URL\n",
            "https://www.clinicaladvisor.com/home/features/clinical-challenge/pain-tingling-and-limited-range-of-motion-after-a-cat-bite-to-the-finger/                                                                                                                                                                                                                                                                                                                                                                                   5310\n",
            "https://www.gastroenterologyadvisor.com/                                                                                                                                                                                                                                                                                                                                                                                                                                                                                     4299\n",
            "https://www.cureus.com/articles/105482-diverticulitis-with-microperforation                                                                                                                                                                                                                                                                                                                                                                                                                                                  2838\n",
            "https://www.clinicaladvisor.com/home/dermatologic-look-alikes/red-rashes-on-the-lower-legs/2/                                                                                                                                                                                                                                                                                                                                                                                                                                2708\n",
            "https://www.rheumatologyadvisor.com/home/general-rheumatology/deep-dive-overview-of-liver-manifestations-in-rheumatic-diseases/                                                                                                                                                                                                                                                                                                                                                                                              2587\n",
            "                                                                                                                                                                                                                                                                                                                                                                                                                                                                                                                             ... \n",
            "https://www.infectiousdiseaseadvisor.com/home/topics/covid19/mixed-results-for-paxlovid-in-standard-risk-patients-with-covid-19/?utm_source=newsletter&utm_medium=email&utm_campaign=NWSLT_IDA_UPDT_062222_JM&hmEmail=kTgLcihhhDEW1GwCOOdG13UHIqcIj%2F6O&hmSubId=&NID=1316018294&elqTrackId=e3e7472aa24848f5b776f0dfa4cae5e5&elq=e6d2fec6b6d24ee89c79463b98493739&elqaid=353&elqat=1&elqCampaignId=194                                                                                                                          1\n",
            "https://www.clinicaladvisor.com/home/meeting-coverage/acaai-2022/early-atopic-dermatitis-modifies-the-risk-for-allergic-respiratory-disease/?utm_source=newsletter&utm_medium=email&utm_campaign=NWLTR_CAD_CONF_ACAAI_ASTEPRO_112222_RM&hmEmail=Ysc25hIpkOHdmgLIaUrt9Bhfr1jEQITVgqbP1HaB5lo=&sha256email=c372454efec279dee597fd62192657913f5a5108d9d7a648a2d518ed2f4abcad&hmSubId=&NID=1003876251&elqTrackId=031b0c57d3bc455eb8736ad8693830db&elq=db6bd4eba8354842aff4c502062d50df&elqaid=7476&elqat=1&elqCampaignId=6232       1\n",
            "https://www.rheumatologyadvisor.com/home/news/early-screening-and-management-of-cardiovascular-risk-factors-important-in-psoriatic-arthritis-and-ankylosing-spondylitis/?utm_source=google&utm_medium=ppc&utm_campaign=traffic-drivers-rheum&gclid=EAIaIQobChMIpf6cxoWQ_AIVAqvICh1JwA4XEAEYASAAEgKTN_D_BwE                                                                                                                                                                                                                      1\n",
            "https://allmedx.com/q/Flu vaccine lowers risk of stroke?utm_source=Email8271&utm_medium=email&utm_campaign=Email8271&em_tag=94264\u000b\u000b\u000b                                                                                                                                                                                                                                                                                                                                                                                            1\n",
            "https://radrounds.com/radiology-case-images-teaching-file/bilothorax/?fbclid=IwAR3Yw9WM9wiMWr1a1QPTfo4ktG3z5v7TJqCASTbHHi4jNub55m23gxSvsFg                                                                                                                                                                                                                                                                                                                                                                                      1\n",
            "Name: URL, Length: 5231, dtype: int64\n",
            "Total unique values: 5231\n"
          ]
        }
      ],
      "source": [
        "column_names = ['BIDREQUESTIP', 'USERPLATFORMUID', 'USERZIPCODE', 'URL']\n",
        "\n",
        "for column in column_names:\n",
        "    counts = dataframe[column].value_counts()\n",
        "    print(f\"Column: {column}\")\n",
        "    print(counts)\n",
        "    print(\"Total unique values:\", len(counts))\n"
      ]
    },
    {
      "cell_type": "code",
      "execution_count": 9,
      "metadata": {
        "colab": {
          "base_uri": "https://localhost:8080/",
          "height": 634
        },
        "id": "n2J8ufqwPmWr",
        "outputId": "1bb574c1-55ce-492a-9f22-7f5a5433ffd2"
      },
      "outputs": [
        {
          "output_type": "execute_result",
          "data": {
            "text/plain": [
              "     ID DEVICETYPE  PLATFORM_ID    BIDREQUESTIP  \\\n",
              "0  1001    Desktop            2    170.173.0.22   \n",
              "1  1002    Desktop            2   65.216.253.25   \n",
              "2  1003    Desktop            2    66.232.79.22   \n",
              "3  1004    Desktop            3  137.54.125.246   \n",
              "4  1005     Mobile            7  174.202.231.99   \n",
              "\n",
              "                        USERPLATFORMUID     USERCITY  USERZIPCODE  \\\n",
              "0  6974dcaa-f932-480e-9fb5-c52e20e1393a     Portland      97206.0   \n",
              "1  c12f3f8f-8fcf-484a-90e1-1ac04db8cdcf    Arlington      22202.0   \n",
              "2  a698de4b-e200-46dd-b5fb-40402175ae18  New Meadows      83654.0   \n",
              "3  45967533-75c8-4fbd-a00c-e6ff20447aaa          NaN  229114624.0   \n",
              "4  a17e25be-532d-4cf5-b916-9308c8c3961f      Houston      77008.0   \n",
              "\n",
              "                                           USERAGENT            PLATFORMTYPE  \\\n",
              "0  Mozilla/5.0 (Windows NT 10.0; Win64; x64) Appl...  Online Medical Journal   \n",
              "1  Mozilla/5.0 (Macintosh; Intel Mac OS X 10_15_7...  Online Medical Journal   \n",
              "2  Mozilla/5.0 (Macintosh; Intel Mac OS X 10_15_7...  Online Medical Journal   \n",
              "3  Mozilla/5.0 (Windows NT 10.0; Win64; x64) Appl...  Online Medical Journal   \n",
              "4  Mozilla/5.0 (iPhone; CPU iPhone OS 16_1_1 like...  Online Medical Journal   \n",
              "\n",
              "  CHANNELTYPE                                                URL  \\\n",
              "0     Website  https://www.cancertherapyadvisor.com/home/canc...   \n",
              "1     Website  https://www.cancertherapyadvisor.com/home/deci...   \n",
              "2     Website  https://www.cancertherapyadvisor.com/home/canc...   \n",
              "3     Website  https://globalrph.com/medcalcs/warfarin-mainte...   \n",
              "4     Website  https://www.cureus.com/articles/58184-a-review...   \n",
              "\n",
              "                                            KEYWORDS    TAXONOMY  IS_HCP  \n",
              "0  General|Endocrine|False|Medicine|Surgery|Urolo...         NaN     0.0  \n",
              "1  Bone Marrow|Radiography|Chronic|Oncology|Psych...         NaN     0.0  \n",
              "2  General|Endocrine|False|Medicine|Surgery|Urolo...         NaN     0.0  \n",
              "3  Dental|Total|Clinical|Pharmacology|Physicians|...  2084P0800X     1.0  \n",
              "4  Critical Care|Emergency Medicine|General Pract...         NaN     0.0  "
            ],
            "text/html": [
              "\n",
              "  <div id=\"df-031d9792-af07-45b8-bba2-ce56336991ab\">\n",
              "    <div class=\"colab-df-container\">\n",
              "      <div>\n",
              "<style scoped>\n",
              "    .dataframe tbody tr th:only-of-type {\n",
              "        vertical-align: middle;\n",
              "    }\n",
              "\n",
              "    .dataframe tbody tr th {\n",
              "        vertical-align: top;\n",
              "    }\n",
              "\n",
              "    .dataframe thead th {\n",
              "        text-align: right;\n",
              "    }\n",
              "</style>\n",
              "<table border=\"1\" class=\"dataframe\">\n",
              "  <thead>\n",
              "    <tr style=\"text-align: right;\">\n",
              "      <th></th>\n",
              "      <th>ID</th>\n",
              "      <th>DEVICETYPE</th>\n",
              "      <th>PLATFORM_ID</th>\n",
              "      <th>BIDREQUESTIP</th>\n",
              "      <th>USERPLATFORMUID</th>\n",
              "      <th>USERCITY</th>\n",
              "      <th>USERZIPCODE</th>\n",
              "      <th>USERAGENT</th>\n",
              "      <th>PLATFORMTYPE</th>\n",
              "      <th>CHANNELTYPE</th>\n",
              "      <th>URL</th>\n",
              "      <th>KEYWORDS</th>\n",
              "      <th>TAXONOMY</th>\n",
              "      <th>IS_HCP</th>\n",
              "    </tr>\n",
              "  </thead>\n",
              "  <tbody>\n",
              "    <tr>\n",
              "      <th>0</th>\n",
              "      <td>1001</td>\n",
              "      <td>Desktop</td>\n",
              "      <td>2</td>\n",
              "      <td>170.173.0.22</td>\n",
              "      <td>6974dcaa-f932-480e-9fb5-c52e20e1393a</td>\n",
              "      <td>Portland</td>\n",
              "      <td>97206.0</td>\n",
              "      <td>Mozilla/5.0 (Windows NT 10.0; Win64; x64) Appl...</td>\n",
              "      <td>Online Medical Journal</td>\n",
              "      <td>Website</td>\n",
              "      <td>https://www.cancertherapyadvisor.com/home/canc...</td>\n",
              "      <td>General|Endocrine|False|Medicine|Surgery|Urolo...</td>\n",
              "      <td>NaN</td>\n",
              "      <td>0.0</td>\n",
              "    </tr>\n",
              "    <tr>\n",
              "      <th>1</th>\n",
              "      <td>1002</td>\n",
              "      <td>Desktop</td>\n",
              "      <td>2</td>\n",
              "      <td>65.216.253.25</td>\n",
              "      <td>c12f3f8f-8fcf-484a-90e1-1ac04db8cdcf</td>\n",
              "      <td>Arlington</td>\n",
              "      <td>22202.0</td>\n",
              "      <td>Mozilla/5.0 (Macintosh; Intel Mac OS X 10_15_7...</td>\n",
              "      <td>Online Medical Journal</td>\n",
              "      <td>Website</td>\n",
              "      <td>https://www.cancertherapyadvisor.com/home/deci...</td>\n",
              "      <td>Bone Marrow|Radiography|Chronic|Oncology|Psych...</td>\n",
              "      <td>NaN</td>\n",
              "      <td>0.0</td>\n",
              "    </tr>\n",
              "    <tr>\n",
              "      <th>2</th>\n",
              "      <td>1003</td>\n",
              "      <td>Desktop</td>\n",
              "      <td>2</td>\n",
              "      <td>66.232.79.22</td>\n",
              "      <td>a698de4b-e200-46dd-b5fb-40402175ae18</td>\n",
              "      <td>New Meadows</td>\n",
              "      <td>83654.0</td>\n",
              "      <td>Mozilla/5.0 (Macintosh; Intel Mac OS X 10_15_7...</td>\n",
              "      <td>Online Medical Journal</td>\n",
              "      <td>Website</td>\n",
              "      <td>https://www.cancertherapyadvisor.com/home/canc...</td>\n",
              "      <td>General|Endocrine|False|Medicine|Surgery|Urolo...</td>\n",
              "      <td>NaN</td>\n",
              "      <td>0.0</td>\n",
              "    </tr>\n",
              "    <tr>\n",
              "      <th>3</th>\n",
              "      <td>1004</td>\n",
              "      <td>Desktop</td>\n",
              "      <td>3</td>\n",
              "      <td>137.54.125.246</td>\n",
              "      <td>45967533-75c8-4fbd-a00c-e6ff20447aaa</td>\n",
              "      <td>NaN</td>\n",
              "      <td>229114624.0</td>\n",
              "      <td>Mozilla/5.0 (Windows NT 10.0; Win64; x64) Appl...</td>\n",
              "      <td>Online Medical Journal</td>\n",
              "      <td>Website</td>\n",
              "      <td>https://globalrph.com/medcalcs/warfarin-mainte...</td>\n",
              "      <td>Dental|Total|Clinical|Pharmacology|Physicians|...</td>\n",
              "      <td>2084P0800X</td>\n",
              "      <td>1.0</td>\n",
              "    </tr>\n",
              "    <tr>\n",
              "      <th>4</th>\n",
              "      <td>1005</td>\n",
              "      <td>Mobile</td>\n",
              "      <td>7</td>\n",
              "      <td>174.202.231.99</td>\n",
              "      <td>a17e25be-532d-4cf5-b916-9308c8c3961f</td>\n",
              "      <td>Houston</td>\n",
              "      <td>77008.0</td>\n",
              "      <td>Mozilla/5.0 (iPhone; CPU iPhone OS 16_1_1 like...</td>\n",
              "      <td>Online Medical Journal</td>\n",
              "      <td>Website</td>\n",
              "      <td>https://www.cureus.com/articles/58184-a-review...</td>\n",
              "      <td>Critical Care|Emergency Medicine|General Pract...</td>\n",
              "      <td>NaN</td>\n",
              "      <td>0.0</td>\n",
              "    </tr>\n",
              "  </tbody>\n",
              "</table>\n",
              "</div>\n",
              "      <button class=\"colab-df-convert\" onclick=\"convertToInteractive('df-031d9792-af07-45b8-bba2-ce56336991ab')\"\n",
              "              title=\"Convert this dataframe to an interactive table.\"\n",
              "              style=\"display:none;\">\n",
              "        \n",
              "  <svg xmlns=\"http://www.w3.org/2000/svg\" height=\"24px\"viewBox=\"0 0 24 24\"\n",
              "       width=\"24px\">\n",
              "    <path d=\"M0 0h24v24H0V0z\" fill=\"none\"/>\n",
              "    <path d=\"M18.56 5.44l.94 2.06.94-2.06 2.06-.94-2.06-.94-.94-2.06-.94 2.06-2.06.94zm-11 1L8.5 8.5l.94-2.06 2.06-.94-2.06-.94L8.5 2.5l-.94 2.06-2.06.94zm10 10l.94 2.06.94-2.06 2.06-.94-2.06-.94-.94-2.06-.94 2.06-2.06.94z\"/><path d=\"M17.41 7.96l-1.37-1.37c-.4-.4-.92-.59-1.43-.59-.52 0-1.04.2-1.43.59L10.3 9.45l-7.72 7.72c-.78.78-.78 2.05 0 2.83L4 21.41c.39.39.9.59 1.41.59.51 0 1.02-.2 1.41-.59l7.78-7.78 2.81-2.81c.8-.78.8-2.07 0-2.86zM5.41 20L4 18.59l7.72-7.72 1.47 1.35L5.41 20z\"/>\n",
              "  </svg>\n",
              "      </button>\n",
              "      \n",
              "  <style>\n",
              "    .colab-df-container {\n",
              "      display:flex;\n",
              "      flex-wrap:wrap;\n",
              "      gap: 12px;\n",
              "    }\n",
              "\n",
              "    .colab-df-convert {\n",
              "      background-color: #E8F0FE;\n",
              "      border: none;\n",
              "      border-radius: 50%;\n",
              "      cursor: pointer;\n",
              "      display: none;\n",
              "      fill: #1967D2;\n",
              "      height: 32px;\n",
              "      padding: 0 0 0 0;\n",
              "      width: 32px;\n",
              "    }\n",
              "\n",
              "    .colab-df-convert:hover {\n",
              "      background-color: #E2EBFA;\n",
              "      box-shadow: 0px 1px 2px rgba(60, 64, 67, 0.3), 0px 1px 3px 1px rgba(60, 64, 67, 0.15);\n",
              "      fill: #174EA6;\n",
              "    }\n",
              "\n",
              "    [theme=dark] .colab-df-convert {\n",
              "      background-color: #3B4455;\n",
              "      fill: #D2E3FC;\n",
              "    }\n",
              "\n",
              "    [theme=dark] .colab-df-convert:hover {\n",
              "      background-color: #434B5C;\n",
              "      box-shadow: 0px 1px 3px 1px rgba(0, 0, 0, 0.15);\n",
              "      filter: drop-shadow(0px 1px 2px rgba(0, 0, 0, 0.3));\n",
              "      fill: #FFFFFF;\n",
              "    }\n",
              "  </style>\n",
              "\n",
              "      <script>\n",
              "        const buttonEl =\n",
              "          document.querySelector('#df-031d9792-af07-45b8-bba2-ce56336991ab button.colab-df-convert');\n",
              "        buttonEl.style.display =\n",
              "          google.colab.kernel.accessAllowed ? 'block' : 'none';\n",
              "\n",
              "        async function convertToInteractive(key) {\n",
              "          const element = document.querySelector('#df-031d9792-af07-45b8-bba2-ce56336991ab');\n",
              "          const dataTable =\n",
              "            await google.colab.kernel.invokeFunction('convertToInteractive',\n",
              "                                                     [key], {});\n",
              "          if (!dataTable) return;\n",
              "\n",
              "          const docLinkHtml = 'Like what you see? Visit the ' +\n",
              "            '<a target=\"_blank\" href=https://colab.research.google.com/notebooks/data_table.ipynb>data table notebook</a>'\n",
              "            + ' to learn more about interactive tables.';\n",
              "          element.innerHTML = '';\n",
              "          dataTable['output_type'] = 'display_data';\n",
              "          await google.colab.output.renderOutput(dataTable, element);\n",
              "          const docLink = document.createElement('div');\n",
              "          docLink.innerHTML = docLinkHtml;\n",
              "          element.appendChild(docLink);\n",
              "        }\n",
              "      </script>\n",
              "    </div>\n",
              "  </div>\n",
              "  "
            ]
          },
          "metadata": {},
          "execution_count": 9
        }
      ],
      "source": [
        "dataframe.head()"
      ]
    },
    {
      "cell_type": "code",
      "execution_count": 10,
      "metadata": {
        "id": "AGg6bjZwP400"
      },
      "outputs": [],
      "source": [
        "columns_to_keep = ['KEYWORDS','TAXONOMY','IS_HCP']\n",
        "dataframe = dataframe.drop(columns=dataframe.columns.difference(columns_to_keep))\n"
      ]
    },
    {
      "cell_type": "code",
      "source": [
        "column_names = ['TAXONOMY','IS_HCP']\n",
        "\n",
        "for column in column_names:\n",
        "    counts = dataframe[column].value_counts()\n",
        "    print(f\"Column: {column}\")\n",
        "    print(counts)\n",
        "    print(\"Total unique values:\", len(counts))"
      ],
      "metadata": {
        "colab": {
          "base_uri": "https://localhost:8080/"
        },
        "id": "DtxKYeypItly",
        "outputId": "64067a34-c916-497e-fc52-cf23a8dc7550"
      },
      "execution_count": 11,
      "outputs": [
        {
          "output_type": "stream",
          "name": "stdout",
          "text": [
            "Column: TAXONOMY\n",
            "2084P0800X    7930\n",
            "2084N0400X    6621\n",
            "207Q00000X    3997\n",
            "207R00000X    3190\n",
            "208000000X     837\n",
            "              ... \n",
            "163WC0400X       1\n",
            "246QM0706X       1\n",
            "1835N1003X       1\n",
            "207RI0008X       1\n",
            "207XX0801X       1\n",
            "Name: TAXONOMY, Length: 207, dtype: int64\n",
            "Total unique values: 207\n",
            "Column: IS_HCP\n",
            "0.0    79756\n",
            "1.0    34180\n",
            "Name: IS_HCP, dtype: int64\n",
            "Total unique values: 2\n"
          ]
        }
      ]
    },
    {
      "cell_type": "code",
      "execution_count": 12,
      "metadata": {
        "id": "cA7rZJIAxPyv"
      },
      "outputs": [],
      "source": [
        "\n",
        "dataframe['TAXONOMY'].fillna('0', inplace=True)\n"
      ]
    },
    {
      "cell_type": "code",
      "execution_count": 13,
      "metadata": {
        "colab": {
          "base_uri": "https://localhost:8080/",
          "height": 206
        },
        "id": "xFoZrXh4x_Ox",
        "outputId": "a392e352-3d29-4293-d51f-b9732deeb9f1"
      },
      "outputs": [
        {
          "output_type": "execute_result",
          "data": {
            "text/plain": [
              "                                            KEYWORDS    TAXONOMY  IS_HCP\n",
              "0  General|Endocrine|False|Medicine|Surgery|Urolo...           0     0.0\n",
              "1  Bone Marrow|Radiography|Chronic|Oncology|Psych...           0     0.0\n",
              "2  General|Endocrine|False|Medicine|Surgery|Urolo...           0     0.0\n",
              "3  Dental|Total|Clinical|Pharmacology|Physicians|...  2084P0800X     1.0\n",
              "4  Critical Care|Emergency Medicine|General Pract...           0     0.0"
            ],
            "text/html": [
              "\n",
              "  <div id=\"df-3f0869cc-93ac-49a0-b206-3888e99e8fd0\">\n",
              "    <div class=\"colab-df-container\">\n",
              "      <div>\n",
              "<style scoped>\n",
              "    .dataframe tbody tr th:only-of-type {\n",
              "        vertical-align: middle;\n",
              "    }\n",
              "\n",
              "    .dataframe tbody tr th {\n",
              "        vertical-align: top;\n",
              "    }\n",
              "\n",
              "    .dataframe thead th {\n",
              "        text-align: right;\n",
              "    }\n",
              "</style>\n",
              "<table border=\"1\" class=\"dataframe\">\n",
              "  <thead>\n",
              "    <tr style=\"text-align: right;\">\n",
              "      <th></th>\n",
              "      <th>KEYWORDS</th>\n",
              "      <th>TAXONOMY</th>\n",
              "      <th>IS_HCP</th>\n",
              "    </tr>\n",
              "  </thead>\n",
              "  <tbody>\n",
              "    <tr>\n",
              "      <th>0</th>\n",
              "      <td>General|Endocrine|False|Medicine|Surgery|Urolo...</td>\n",
              "      <td>0</td>\n",
              "      <td>0.0</td>\n",
              "    </tr>\n",
              "    <tr>\n",
              "      <th>1</th>\n",
              "      <td>Bone Marrow|Radiography|Chronic|Oncology|Psych...</td>\n",
              "      <td>0</td>\n",
              "      <td>0.0</td>\n",
              "    </tr>\n",
              "    <tr>\n",
              "      <th>2</th>\n",
              "      <td>General|Endocrine|False|Medicine|Surgery|Urolo...</td>\n",
              "      <td>0</td>\n",
              "      <td>0.0</td>\n",
              "    </tr>\n",
              "    <tr>\n",
              "      <th>3</th>\n",
              "      <td>Dental|Total|Clinical|Pharmacology|Physicians|...</td>\n",
              "      <td>2084P0800X</td>\n",
              "      <td>1.0</td>\n",
              "    </tr>\n",
              "    <tr>\n",
              "      <th>4</th>\n",
              "      <td>Critical Care|Emergency Medicine|General Pract...</td>\n",
              "      <td>0</td>\n",
              "      <td>0.0</td>\n",
              "    </tr>\n",
              "  </tbody>\n",
              "</table>\n",
              "</div>\n",
              "      <button class=\"colab-df-convert\" onclick=\"convertToInteractive('df-3f0869cc-93ac-49a0-b206-3888e99e8fd0')\"\n",
              "              title=\"Convert this dataframe to an interactive table.\"\n",
              "              style=\"display:none;\">\n",
              "        \n",
              "  <svg xmlns=\"http://www.w3.org/2000/svg\" height=\"24px\"viewBox=\"0 0 24 24\"\n",
              "       width=\"24px\">\n",
              "    <path d=\"M0 0h24v24H0V0z\" fill=\"none\"/>\n",
              "    <path d=\"M18.56 5.44l.94 2.06.94-2.06 2.06-.94-2.06-.94-.94-2.06-.94 2.06-2.06.94zm-11 1L8.5 8.5l.94-2.06 2.06-.94-2.06-.94L8.5 2.5l-.94 2.06-2.06.94zm10 10l.94 2.06.94-2.06 2.06-.94-2.06-.94-.94-2.06-.94 2.06-2.06.94z\"/><path d=\"M17.41 7.96l-1.37-1.37c-.4-.4-.92-.59-1.43-.59-.52 0-1.04.2-1.43.59L10.3 9.45l-7.72 7.72c-.78.78-.78 2.05 0 2.83L4 21.41c.39.39.9.59 1.41.59.51 0 1.02-.2 1.41-.59l7.78-7.78 2.81-2.81c.8-.78.8-2.07 0-2.86zM5.41 20L4 18.59l7.72-7.72 1.47 1.35L5.41 20z\"/>\n",
              "  </svg>\n",
              "      </button>\n",
              "      \n",
              "  <style>\n",
              "    .colab-df-container {\n",
              "      display:flex;\n",
              "      flex-wrap:wrap;\n",
              "      gap: 12px;\n",
              "    }\n",
              "\n",
              "    .colab-df-convert {\n",
              "      background-color: #E8F0FE;\n",
              "      border: none;\n",
              "      border-radius: 50%;\n",
              "      cursor: pointer;\n",
              "      display: none;\n",
              "      fill: #1967D2;\n",
              "      height: 32px;\n",
              "      padding: 0 0 0 0;\n",
              "      width: 32px;\n",
              "    }\n",
              "\n",
              "    .colab-df-convert:hover {\n",
              "      background-color: #E2EBFA;\n",
              "      box-shadow: 0px 1px 2px rgba(60, 64, 67, 0.3), 0px 1px 3px 1px rgba(60, 64, 67, 0.15);\n",
              "      fill: #174EA6;\n",
              "    }\n",
              "\n",
              "    [theme=dark] .colab-df-convert {\n",
              "      background-color: #3B4455;\n",
              "      fill: #D2E3FC;\n",
              "    }\n",
              "\n",
              "    [theme=dark] .colab-df-convert:hover {\n",
              "      background-color: #434B5C;\n",
              "      box-shadow: 0px 1px 3px 1px rgba(0, 0, 0, 0.15);\n",
              "      filter: drop-shadow(0px 1px 2px rgba(0, 0, 0, 0.3));\n",
              "      fill: #FFFFFF;\n",
              "    }\n",
              "  </style>\n",
              "\n",
              "      <script>\n",
              "        const buttonEl =\n",
              "          document.querySelector('#df-3f0869cc-93ac-49a0-b206-3888e99e8fd0 button.colab-df-convert');\n",
              "        buttonEl.style.display =\n",
              "          google.colab.kernel.accessAllowed ? 'block' : 'none';\n",
              "\n",
              "        async function convertToInteractive(key) {\n",
              "          const element = document.querySelector('#df-3f0869cc-93ac-49a0-b206-3888e99e8fd0');\n",
              "          const dataTable =\n",
              "            await google.colab.kernel.invokeFunction('convertToInteractive',\n",
              "                                                     [key], {});\n",
              "          if (!dataTable) return;\n",
              "\n",
              "          const docLinkHtml = 'Like what you see? Visit the ' +\n",
              "            '<a target=\"_blank\" href=https://colab.research.google.com/notebooks/data_table.ipynb>data table notebook</a>'\n",
              "            + ' to learn more about interactive tables.';\n",
              "          element.innerHTML = '';\n",
              "          dataTable['output_type'] = 'display_data';\n",
              "          await google.colab.output.renderOutput(dataTable, element);\n",
              "          const docLink = document.createElement('div');\n",
              "          docLink.innerHTML = docLinkHtml;\n",
              "          element.appendChild(docLink);\n",
              "        }\n",
              "      </script>\n",
              "    </div>\n",
              "  </div>\n",
              "  "
            ]
          },
          "metadata": {},
          "execution_count": 13
        }
      ],
      "source": [
        "dataframe.head()"
      ]
    },
    {
      "cell_type": "code",
      "execution_count": 14,
      "metadata": {
        "id": "9BAL5ZvOyYBv"
      },
      "outputs": [],
      "source": [
        "columns_to_check = ['KEYWORDS','TAXONOMY','IS_HCP']\n",
        "dataframe.dropna(subset=columns_to_check, inplace=True)\n"
      ]
    },
    {
      "cell_type": "code",
      "execution_count": 15,
      "metadata": {
        "id": "j-_H3EwGULRC"
      },
      "outputs": [],
      "source": [
        "test_df = pd.read_csv('/content/drive/MyDrive/Doceree-HCP-Test.csv', encoding='latin1')\n"
      ]
    },
    {
      "cell_type": "markdown",
      "source": [
        "Training and Evaluating a Random Forest Classifier on Encoded Data for Text Columns"
      ],
      "metadata": {
        "id": "810xhCs-D0Q5"
      }
    },
    {
      "cell_type": "code",
      "source": [
        "import pandas as pd\n",
        "from sklearn.preprocessing import OneHotEncoder, LabelEncoder\n",
        "from sklearn.feature_extraction.text import CountVectorizer\n",
        "from sklearn.model_selection import train_test_split\n",
        "from sklearn.ensemble import RandomForestClassifier\n",
        "from sklearn.metrics import accuracy_score\n",
        "import scipy.sparse as sp\n",
        "import warnings\n",
        "\n",
        "# Initialize the model\n",
        "model = RandomForestClassifier()\n",
        "\n",
        "# Perform preprocessing and encoding for the entire dataset\n",
        "encoded_features = []\n",
        "\n",
        "# Text Vectorization for text columns\n",
        "text_columns = ['KEYWORDS']\n",
        "for column in text_columns:\n",
        "    vectorizer = CountVectorizer()\n",
        "    vectorizer.fit(dataframe[column])  # Fit on training data only\n",
        "    encoded_column = vectorizer.transform(dataframe[column])  # Transform both training and test data\n",
        "    encoded_features.append(encoded_column)\n",
        "\n",
        "# Concatenate the encoded features\n",
        "encoded_data = sp.hstack(encoded_features, format='csr')\n",
        "\n",
        "# Convert the encoded data to a DataFrame\n",
        "encoded_dataframe = pd.DataFrame(encoded_data.toarray())\n",
        "\n",
        "# Encode the target column ('TAXONOMY')\n",
        "encoder = LabelEncoder()\n",
        "encoded_target = encoder.fit_transform(dataframe['TAXONOMY'])\n",
        "\n",
        "# Train the model on the entire dataset\n",
        "X = encoded_dataframe.copy()\n",
        "y = encoded_target\n",
        "model.fit(X, y)\n",
        "\n",
        "# Split the data into training and testing sets\n",
        "X_train, X_test, y_train, y_test = train_test_split(X, y, test_size=0.2, random_state=42)\n",
        "\n",
        "# Make predictions on the test data\n",
        "y_pred = model.predict(X_test)\n",
        "\n",
        "# Evaluate the model's performance\n",
        "accuracy = accuracy_score(y_test, y_pred)\n",
        "print(\"Accuracy on Test Data:\", accuracy)\n"
      ],
      "metadata": {
        "colab": {
          "base_uri": "https://localhost:8080/"
        },
        "id": "4ozM_XhuB9Dh",
        "outputId": "fd134427-9b4d-463b-8631-0c318860b97d"
      },
      "execution_count": 16,
      "outputs": [
        {
          "output_type": "stream",
          "name": "stdout",
          "text": [
            "Accuracy on Test Data: 0.8217482885729331\n"
          ]
        }
      ]
    },
    {
      "cell_type": "code",
      "source": [
        "text_columns = ['KEYWORDS']\n",
        "encoded_features = []\n",
        "for column in text_columns:\n",
        "    test_df[column].fillna('', inplace=True)  # Fill missing values with empty string\n",
        "    encoded_column = vectorizer.transform(test_df[column])\n",
        "    encoded_features.append(encoded_column)\n",
        "\n",
        "# Concatenate the encoded features\n",
        "encoded_data = sp.hstack(encoded_features, format='csr')\n",
        "\n",
        "# Convert the encoded data to a DataFrame\n",
        "encoded_test_df = pd.DataFrame(encoded_data.toarray())\n",
        "\n",
        "y_pred = model.predict(encoded_test_df)\n",
        "\n",
        "test_df['TAXONOMY'] = encoder.inverse_transform(y_pred)\n"
      ],
      "metadata": {
        "id": "yyicmec1PRUv"
      },
      "execution_count": 17,
      "outputs": []
    },
    {
      "cell_type": "markdown",
      "source": [
        "Training and Evaluating a Support Vector Classifier (SVC) on Encoded Data for Text Columns"
      ],
      "metadata": {
        "id": "_CuHzdczD7Yw"
      }
    },
    {
      "cell_type": "code",
      "source": [
        "from sklearn.svm import SVC\n",
        "from sklearn.feature_extraction.text import CountVectorizer\n",
        "import scipy.sparse as sp\n",
        "import pandas as pd\n",
        "from sklearn.model_selection import train_test_split\n",
        "from sklearn.metrics import accuracy_score\n",
        "from sklearn.preprocessing import LabelEncoder\n",
        "\n",
        "# Initialize the model\n",
        "model2 = SVC()\n",
        "\n",
        "# Perform preprocessing and encoding for the entire dataset\n",
        "encoded_features = []\n",
        "\n",
        "# Text Vectorization for text columns\n",
        "text_columns = ['KEYWORDS']\n",
        "for column in text_columns:\n",
        "    vectorizer = CountVectorizer()\n",
        "    vectorizer.fit(dataframe[column])  # Fit on training data only\n",
        "    encoded_column = vectorizer.transform(dataframe[column])  # Transform both training and test data\n",
        "    encoded_features.append(encoded_column)\n",
        "\n",
        "# Concatenate the encoded features\n",
        "encoded_data = sp.hstack(encoded_features, format='csr')\n",
        "\n",
        "# Convert the encoded data to a DataFrame\n",
        "encoded_dataframe = pd.DataFrame(encoded_data.toarray())\n",
        "\n",
        "# Encode the target column ('IS_HCP')\n",
        "encoder = LabelEncoder()\n",
        "encoded_target = encoder.fit_transform(dataframe['IS_HCP'])\n",
        "\n",
        "# Train the model on the entire dataset\n",
        "X = encoded_dataframe.copy()\n",
        "y = encoded_target\n",
        "\n",
        "model2.fit(X, y)\n",
        "\n",
        "# Split the data into training and testing sets\n",
        "X_train, X_test, y_train, y_test = train_test_split(X, y, test_size=0.2, random_state=42)\n",
        "\n",
        "# Make predictions on the test data\n",
        "y_pred = model2.predict(X_test)\n",
        "\n",
        "# Evaluate the model's performance\n",
        "accuracy = accuracy_score(y_test, y_pred)\n",
        "print(\"Accuracy on Test Data:\", accuracy)\n"
      ],
      "metadata": {
        "colab": {
          "base_uri": "https://localhost:8080/"
        },
        "id": "PKeUITliJ9Cb",
        "outputId": "8d375627-61b7-4cae-d987-bc66d8099c48"
      },
      "execution_count": 18,
      "outputs": [
        {
          "output_type": "stream",
          "name": "stdout",
          "text": [
            "Accuracy on Test Data: 0.9787168685272951\n"
          ]
        }
      ]
    },
    {
      "cell_type": "code",
      "source": [
        "# Assign the predicted values to the 'IS_HCP' column in test_df\n",
        "test_df['IS_HCP'] = y_pred\n"
      ],
      "metadata": {
        "id": "FyUAs-5QL5SG"
      },
      "execution_count": 19,
      "outputs": []
    },
    {
      "cell_type": "code",
      "execution_count": 20,
      "metadata": {
        "id": "DK9G5LGmkrN5"
      },
      "outputs": [],
      "source": [
        "columns_to_keep = ['ID', 'TAXONOMY', 'IS_HCP']\n",
        "test_df = test_df[columns_to_keep]"
      ]
    },
    {
      "cell_type": "code",
      "execution_count": 21,
      "metadata": {
        "id": "KbRvrKIKlaRE"
      },
      "outputs": [],
      "source": [
        "# Save the dataframe as a CSV file\n",
        "test_df.to_csv('predictions.csv', index=False)"
      ]
    },
    {
      "cell_type": "code",
      "execution_count": null,
      "metadata": {
        "id": "zTvVZrBgl4VF"
      },
      "outputs": [],
      "source": []
    }
  ],
  "metadata": {
    "accelerator": "GPU",
    "colab": {
      "provenance": []
    },
    "kernelspec": {
      "display_name": "Python 3",
      "name": "python3"
    },
    "language_info": {
      "name": "python"
    }
  },
  "nbformat": 4,
  "nbformat_minor": 0
}